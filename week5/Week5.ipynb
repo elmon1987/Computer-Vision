{
 "cells": [
  {
   "cell_type": "code",
   "execution_count": 5,
   "metadata": {},
   "outputs": [],
   "source": [
    "# Face detection and drawing\n",
    "import cv2, os\n",
    "from mtcnn.mtcnn import MTCNN\n",
    "\n",
    "img_dir = 'faces'\n",
    "result_dir = 'results'\n",
    "detector = MTCNN()\n",
    "\n",
    "paths = os.listdir(img_dir) \n",
    "for path in paths:\n",
    "    image_path = os.path.join(img_dir, path)\n",
    "    image = cv2.imread(image_path)\n",
    "    result = detector.detect_faces(image)\n",
    "    \n",
    "    count = 0\n",
    "    for face in result:\n",
    "        count += 1 \n",
    "        bbox = face['box']\n",
    "        #cropped_image = image[bbox[0]:bbox[0] + bbox[2], bbox[1]:bbox[1] + bbox[3]]\n",
    "        cropped_image = image[bbox[1]:bbox[1] + bbox[3], bbox[0]:bbox[0] + bbox[2]]\n",
    "        cv2.imwrite(os.path.join(result_dir, str(count) + '_' + path), cropped_image)"
   ]
  },
  {
   "cell_type": "code",
   "execution_count": null,
   "metadata": {},
   "outputs": [],
   "source": []
  }
 ],
 "metadata": {
  "kernelspec": {
   "display_name": "Python 3",
   "language": "python",
   "name": "python3"
  },
  "language_info": {
   "codemirror_mode": {
    "name": "ipython",
    "version": 3
   },
   "file_extension": ".py",
   "mimetype": "text/x-python",
   "name": "python",
   "nbconvert_exporter": "python",
   "pygments_lexer": "ipython3",
   "version": "3.6.5"
  }
 },
 "nbformat": 4,
 "nbformat_minor": 2
}
